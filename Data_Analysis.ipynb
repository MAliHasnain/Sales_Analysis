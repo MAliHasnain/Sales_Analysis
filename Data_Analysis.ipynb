{
 "cells": [
  {
   "cell_type": "markdown",
   "id": "dfbed152",
   "metadata": {},
   "source": [
    "#                                       DIWALI SALES ANALYSIS"
   ]
  },
  {
   "cell_type": "markdown",
   "id": "35a4bd6d",
   "metadata": {},
   "source": [
    "## Importing Libraries & Data:"
   ]
  },
  {
   "cell_type": "code",
   "execution_count": null,
   "id": "73ae688e",
   "metadata": {},
   "outputs": [],
   "source": [
    "import numpy as np\n",
    "import matplotlib.pyplot as plt\n",
    "import pandas as pd\n",
    "import seaborn as sns"
   ]
  },
  {
   "cell_type": "code",
   "execution_count": null,
   "id": "4c90c726",
   "metadata": {},
   "outputs": [],
   "source": [
    "df = pd.read_csv('Data.csv',encoding='latin1')\n",
    "df.head()"
   ]
  },
  {
   "cell_type": "markdown",
   "id": "ca4bf92c",
   "metadata": {},
   "source": [
    "## Data Cleaning & Pre Processing:"
   ]
  },
  {
   "cell_type": "code",
   "execution_count": null,
   "id": "8a66d5b6",
   "metadata": {},
   "outputs": [],
   "source": [
    "df.shape"
   ]
  },
  {
   "cell_type": "code",
   "execution_count": null,
   "id": "72b5e7db",
   "metadata": {},
   "outputs": [],
   "source": [
    "df.info()"
   ]
  },
  {
   "cell_type": "code",
   "execution_count": null,
   "id": "53b7b48d",
   "metadata": {},
   "outputs": [],
   "source": [
    "df.drop({\"Status\",'unnamed1'},axis = 1,inplace=True)"
   ]
  },
  {
   "cell_type": "code",
   "execution_count": null,
   "id": "acddd818",
   "metadata": {},
   "outputs": [],
   "source": [
    "df.head()"
   ]
  },
  {
   "cell_type": "code",
   "execution_count": null,
   "id": "158ce655",
   "metadata": {},
   "outputs": [],
   "source": [
    "df.isna().sum()"
   ]
  },
  {
   "cell_type": "code",
   "execution_count": null,
   "id": "cd221442",
   "metadata": {},
   "outputs": [],
   "source": [
    "df.dropna(inplace = True)"
   ]
  },
  {
   "cell_type": "code",
   "execution_count": null,
   "id": "6824415f",
   "metadata": {},
   "outputs": [],
   "source": [
    "df.shape"
   ]
  },
  {
   "cell_type": "code",
   "execution_count": null,
   "id": "d7c6c01d",
   "metadata": {},
   "outputs": [],
   "source": [
    "df[\"Amount\"] = df[\"Amount\"].astype(\"int\")"
   ]
  },
  {
   "cell_type": "code",
   "execution_count": null,
   "id": "9be924b5",
   "metadata": {},
   "outputs": [],
   "source": [
    "df[\"Amount\"].dtype"
   ]
  },
  {
   "cell_type": "code",
   "execution_count": null,
   "id": "38f590e7",
   "metadata": {},
   "outputs": [],
   "source": [
    "df[[\"Age\",\"Orders\",\"Amount\"]].describe().astype('int')"
   ]
  },
  {
   "cell_type": "markdown",
   "id": "7806127d",
   "metadata": {},
   "source": [
    "## Exploratory Data Analysis:"
   ]
  },
  {
   "cell_type": "code",
   "execution_count": null,
   "id": "01abdcaf",
   "metadata": {},
   "outputs": [],
   "source": [
    "df.columns"
   ]
  },
  {
   "cell_type": "markdown",
   "id": "e3ecd421",
   "metadata": {},
   "source": [
    "### Gender:"
   ]
  },
  {
   "cell_type": "code",
   "execution_count": null,
   "id": "c36f0dcd",
   "metadata": {
    "scrolled": false
   },
   "outputs": [],
   "source": [
    "ax = sns.countplot(x = \"Gender\",data=df)\n",
    "\n",
    "for bars in ax.containers:\n",
    "    ax.bar_label(bars)"
   ]
  },
  {
   "cell_type": "code",
   "execution_count": null,
   "id": "ed14c70d",
   "metadata": {
    "scrolled": false
   },
   "outputs": [],
   "source": [
    "df1 = df.groupby([\"Gender\"], as_index=False)[\"Amount\"].sum().sort_values(by=\"Amount\",ascending = False)\n",
    "sns.barplot(x = \"Gender\", y = \"Amount\",data = df1)"
   ]
  },
  {
   "cell_type": "markdown",
   "id": "2fb8ef28",
   "metadata": {},
   "source": [
    "#### From above visualization we can extract that Females are most buyers and their purchasing power is also greater than man."
   ]
  },
  {
   "cell_type": "markdown",
   "id": "d3eef7cc",
   "metadata": {},
   "source": [
    "### Age Group:"
   ]
  },
  {
   "cell_type": "code",
   "execution_count": null,
   "id": "26f2487e",
   "metadata": {},
   "outputs": [],
   "source": [
    "ax1 = sns.countplot(x = \"Age Group\",data=df,hue = \"Gender\")\n",
    "\n",
    "for bars in ax1.containers:\n",
    "    ax1.bar_label(bars)"
   ]
  },
  {
   "cell_type": "code",
   "execution_count": null,
   "id": "0c022a33",
   "metadata": {},
   "outputs": [],
   "source": [
    "df2 = df.groupby([\"Age Group\"], as_index=False)[\"Amount\"].sum().sort_values(by=\"Amount\",ascending = False)\n",
    "sns.barplot(x = \"Age Group\", y = \"Amount\",data = df2)"
   ]
  },
  {
   "cell_type": "markdown",
   "id": "4ba56105",
   "metadata": {},
   "source": [
    "#### From Above visualization we can infere that the Female buyers of age group 26-35 are most buyers."
   ]
  },
  {
   "cell_type": "markdown",
   "id": "d225b1ec",
   "metadata": {},
   "source": [
    "### State:"
   ]
  },
  {
   "cell_type": "code",
   "execution_count": null,
   "id": "7d538114",
   "metadata": {},
   "outputs": [],
   "source": [
    "df3 = df.groupby([\"State\"], as_index=False)[\"Orders\"].sum().sort_values(by=\"Orders\",ascending = False).head(10)\n",
    "\n",
    "sns.set(style=\"whitegrid\")\n",
    "plt.figure(figsize=(16, 5))\n",
    "sns.barplot(x = \"State\", y = \"Orders\",data = df3)"
   ]
  },
  {
   "cell_type": "code",
   "execution_count": null,
   "id": "c6b6cbe0",
   "metadata": {},
   "outputs": [],
   "source": [
    "df4 = df.groupby([\"State\"], as_index=False)[\"Amount\"].sum().sort_values(by=\"Amount\",ascending = False).head(10)\n",
    "\n",
    "sns.set(style=\"whitegrid\")\n",
    "plt.figure(figsize=(16, 5))\n",
    "sns.barplot(x = \"State\", y = \"Amount\",data = df4)"
   ]
  },
  {
   "cell_type": "markdown",
   "id": "51e2de19",
   "metadata": {},
   "source": [
    "#### Above Visualizations shows that Uttar Pradesh State, Maharashtra, Karnatka have more orders and Buying power respectively. "
   ]
  },
  {
   "cell_type": "markdown",
   "id": "5098f2f2",
   "metadata": {},
   "source": [
    "## Marital_Status:"
   ]
  },
  {
   "cell_type": "code",
   "execution_count": null,
   "id": "4647c3b6",
   "metadata": {},
   "outputs": [],
   "source": [
    "ax3 = sns.countplot(x = \"Marital_Status\",data=df)\n",
    "\n",
    "plt.figure(figsize=(7, 5))\n",
    "for bars in ax3.containers:\n",
    "    ax3.bar_label(bars)"
   ]
  },
  {
   "cell_type": "code",
   "execution_count": null,
   "id": "c4ca91d6",
   "metadata": {
    "scrolled": false
   },
   "outputs": [],
   "source": [
    "df5 = df.groupby([\"Marital_Status\",\"Gender\"], as_index=False)[\"Amount\"].sum().sort_values(by=\"Amount\",ascending = False).head(10)\n",
    "\n",
    "# sns.set(style=\"whitegrid\")\n",
    "# plt.figure(figsize=(16, 5))\n",
    "sns.barplot(x = \"Marital_Status\", y = \"Amount\",hue = \"Gender\",data = df5)"
   ]
  },
  {
   "cell_type": "markdown",
   "id": "ffaa203b",
   "metadata": {},
   "source": [
    "#### Above Visualization infere that most Married womens are the buyers in diwali sales."
   ]
  },
  {
   "cell_type": "markdown",
   "id": "e327fc36",
   "metadata": {},
   "source": [
    "## Occupation:"
   ]
  },
  {
   "cell_type": "code",
   "execution_count": null,
   "id": "bfc4d9fd",
   "metadata": {},
   "outputs": [],
   "source": [
    "sns.set(rc={\"figure.figsize\":(20,5)})\n",
    "ax4 = sns.countplot(x = \"Occupation\",data=df)\n",
    "for bars in ax4.containers:\n",
    "    ax4.bar_label(bars)"
   ]
  },
  {
   "cell_type": "code",
   "execution_count": null,
   "id": "f6826684",
   "metadata": {},
   "outputs": [],
   "source": [
    "df6 = df.groupby([\"Occupation\"], as_index=False)[\"Amount\"].sum().sort_values(by=\"Amount\",ascending = False).head(10)\n",
    "\n",
    "sns.barplot(x = \"Occupation\", y = \"Amount\",data = df6)"
   ]
  },
  {
   "cell_type": "markdown",
   "id": "33f2b039",
   "metadata": {},
   "source": [
    "#### This above visualization shows that the IT sector, Health Care and Aviation employees have more diwali shopping respectively than other occupation people."
   ]
  },
  {
   "cell_type": "markdown",
   "id": "8e505f89",
   "metadata": {},
   "source": [
    "## Product Category:"
   ]
  },
  {
   "cell_type": "code",
   "execution_count": null,
   "id": "cc7ccb53",
   "metadata": {},
   "outputs": [],
   "source": [
    "plt.figure(figsize=(22, 6))\n",
    "ax4 = sns.countplot(x = \"Product_Category\",data=df)\n",
    "for bars in ax4.containers:\n",
    "    ax4.bar_label(bars)"
   ]
  },
  {
   "cell_type": "code",
   "execution_count": null,
   "id": "b5ba23bd",
   "metadata": {},
   "outputs": [],
   "source": [
    "plt.figure(figsize=(20, 6))\n",
    "df7 = df.groupby([\"Product_Category\"], as_index=False)[\"Amount\"].sum().sort_values(by=\"Amount\",ascending = False).head(10)\n",
    "\n",
    "sns.barplot(x = \"Product_Category\", y = \"Amount\",data = df7)"
   ]
  },
  {
   "cell_type": "markdown",
   "id": "b0c05328",
   "metadata": {},
   "source": [
    "#### The most product item purchased in diwali are Food items."
   ]
  },
  {
   "cell_type": "code",
   "execution_count": null,
   "id": "19354654",
   "metadata": {},
   "outputs": [],
   "source": []
  }
 ],
 "metadata": {
  "kernelspec": {
   "display_name": "Python 3 (ipykernel)",
   "language": "python",
   "name": "python3"
  },
  "language_info": {
   "codemirror_mode": {
    "name": "ipython",
    "version": 3
   },
   "file_extension": ".py",
   "mimetype": "text/x-python",
   "name": "python",
   "nbconvert_exporter": "python",
   "pygments_lexer": "ipython3",
   "version": "3.11.5"
  }
 },
 "nbformat": 4,
 "nbformat_minor": 5
}
